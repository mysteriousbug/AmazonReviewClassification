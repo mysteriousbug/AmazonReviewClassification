{
 "cells": [
  {
   "cell_type": "code",
   "execution_count": 5,
   "id": "1103e07d",
   "metadata": {},
   "outputs": [],
   "source": [
    "import pandas as pd\n",
    "from sklearn.model_selection import train_test_split\n",
    "from sklearn.feature_extraction.text import TfidfVectorizer\n",
    "from sklearn.naive_bayes import MultinomialNB\n",
    "from sklearn.metrics import accuracy_score, classification_report\n",
    "import gzip\n",
    "import json"
   ]
  },
  {
   "cell_type": "code",
   "execution_count": 6,
   "id": "af452769",
   "metadata": {},
   "outputs": [],
   "source": [
    "def parse(path):\n",
    "  g = gzip.open(path,'r')\n",
    "  for l in g:\n",
    "    yield json.loads(l)"
   ]
  },
  {
   "cell_type": "code",
   "execution_count": 7,
   "id": "6fbda4ed",
   "metadata": {},
   "outputs": [],
   "source": [
    "def getDF(path):\n",
    "  i = 0\n",
    "  df = {}\n",
    "  for d in parse(path):\n",
    "    df[i] = d\n",
    "    i += 1\n",
    "  return pd.DataFrame.from_dict(df, orient='index')"
   ]
  },
  {
   "cell_type": "code",
   "execution_count": 8,
   "id": "0fa90e91",
   "metadata": {},
   "outputs": [],
   "source": [
    "df = getDF('Office_Products_5.json.gz')"
   ]
  },
  {
   "cell_type": "code",
   "execution_count": 15,
   "id": "84289373",
   "metadata": {},
   "outputs": [
    {
     "name": "stdout",
     "output_type": "stream",
     "text": [
      "overall                                                         5.0\n",
      "verified                                                       True\n",
      "reviewTime                                              05 17, 2017\n",
      "reviewerID                                           A1PJSSJSKSVCTM\n",
      "asin                                                     0310802636\n",
      "style                                {'Format:': ' Misc. Supplies'}\n",
      "reviewerName                                             ShopN4Me12\n",
      "reviewText        perfect  fit for the bible I purchased for a c...\n",
      "summary           perfect fit for the bible I purchased for a child\n",
      "unixReviewTime                                           1494979200\n",
      "vote                                                            NaN\n",
      "image                                                           NaN\n",
      "Name: 46, dtype: object\n"
     ]
    }
   ],
   "source": [
    "print(df.iloc[46])"
   ]
  },
  {
   "cell_type": "code",
   "execution_count": 18,
   "id": "533c8cd0",
   "metadata": {},
   "outputs": [],
   "source": [
    "df['rating'] = df['overall'].map({1.0: '1', 2.0: '1', 3.0: '2', 4.0: '3', 5.0: '3'})"
   ]
  },
  {
   "cell_type": "code",
   "execution_count": 19,
   "id": "197709c0",
   "metadata": {},
   "outputs": [
    {
     "name": "stdout",
     "output_type": "stream",
     "text": [
      "overall                                                         4.0\n",
      "verified                                                       True\n",
      "reviewTime                                               11 7, 2017\n",
      "reviewerID                                           A2NIJTYWADLK57\n",
      "asin                                                     0140503528\n",
      "style                                    {'Format:': ' Board book'}\n",
      "reviewerName                                            cotton clay\n",
      "reviewText        kids like story BUT while i really wanted a bo...\n",
      "summary                          good story, small size book though\n",
      "unixReviewTime                                           1510012800\n",
      "vote                                                            NaN\n",
      "image                                                           NaN\n",
      "category                                                          C\n",
      "rating                                                            3\n",
      "Name: 0, dtype: object\n"
     ]
    }
   ],
   "source": [
    "print(df.iloc[0])"
   ]
  },
  {
   "cell_type": "code",
   "execution_count": 21,
   "id": "e8b8466b",
   "metadata": {},
   "outputs": [],
   "source": [
    "df.dropna(subset=['reviewText'], inplace=True)  # Remove rows with missing 'reviewText'\n",
    "\n",
    "tfidf_vectorizer = TfidfVectorizer(max_features=5000)\n",
    "X = tfidf_vectorizer.fit_transform(df['reviewText'])\n"
   ]
  },
  {
   "cell_type": "code",
   "execution_count": 22,
   "id": "839ec52e",
   "metadata": {},
   "outputs": [],
   "source": [
    "X_train, X_test, y_train, y_test = train_test_split(X, df['rating'], test_size=0.2, random_state=42)\n"
   ]
  },
  {
   "cell_type": "code",
   "execution_count": 24,
   "id": "14c8f8e9",
   "metadata": {},
   "outputs": [
    {
     "data": {
      "text/plain": [
       "LogisticRegression(max_iter=1000, solver='saga')"
      ]
     },
     "execution_count": 24,
     "metadata": {},
     "output_type": "execute_result"
    }
   ],
   "source": [
    "from sklearn.linear_model import LogisticRegression\n",
    "\n",
    "classifier = LogisticRegression(solver='saga', max_iter=1000)\n",
    "classifier.fit(X_train, y_train)\n"
   ]
  },
  {
   "cell_type": "code",
   "execution_count": 25,
   "id": "1b00a32f",
   "metadata": {},
   "outputs": [
    {
     "name": "stdout",
     "output_type": "stream",
     "text": [
      "Accuracy: 0.9021052434246293\n",
      "              precision    recall  f1-score   support\n",
      "\n",
      "           1       0.71      0.59      0.64     11061\n",
      "           2       0.44      0.13      0.20     10055\n",
      "           3       0.92      0.98      0.95    138913\n",
      "\n",
      "    accuracy                           0.90    160029\n",
      "   macro avg       0.69      0.57      0.60    160029\n",
      "weighted avg       0.88      0.90      0.88    160029\n",
      "\n"
     ]
    }
   ],
   "source": [
    "from sklearn.metrics import accuracy_score, classification_report\n",
    "\n",
    "y_pred = classifier.predict(X_test)\n",
    "accuracy = accuracy_score(y_test, y_pred)\n",
    "print(f\"Accuracy: {accuracy}\")\n",
    "\n",
    "# Print a detailed classification report\n",
    "print(classification_report(y_test, y_pred))\n"
   ]
  },
  {
   "cell_type": "code",
   "execution_count": 27,
   "id": "3fbd6b0b",
   "metadata": {},
   "outputs": [
    {
     "name": "stdout",
     "output_type": "stream",
     "text": [
      "['3' '1']\n"
     ]
    }
   ],
   "source": [
    "new_reviews = [\"This product is great!\", \"I'm hate this product.\"]\n",
    "new_reviews_tfidf = tfidf_vectorizer.transform(new_reviews)\n",
    "predictions = classifier.predict(new_reviews_tfidf)\n",
    "print(predictions)\n"
   ]
  },
  {
   "cell_type": "code",
   "execution_count": null,
   "id": "e72cd6a0",
   "metadata": {},
   "outputs": [],
   "source": []
  },
  {
   "cell_type": "code",
   "execution_count": null,
   "id": "1b6610dd",
   "metadata": {},
   "outputs": [],
   "source": []
  },
  {
   "cell_type": "code",
   "execution_count": null,
   "id": "0bdde62e",
   "metadata": {},
   "outputs": [],
   "source": []
  }
 ],
 "metadata": {
  "kernelspec": {
   "display_name": "Python 3 (ipykernel)",
   "language": "python",
   "name": "python3"
  },
  "language_info": {
   "codemirror_mode": {
    "name": "ipython",
    "version": 3
   },
   "file_extension": ".py",
   "mimetype": "text/x-python",
   "name": "python",
   "nbconvert_exporter": "python",
   "pygments_lexer": "ipython3",
   "version": "3.9.13"
  }
 },
 "nbformat": 4,
 "nbformat_minor": 5
}
