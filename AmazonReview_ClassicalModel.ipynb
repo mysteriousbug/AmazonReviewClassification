{
 "cells": [
  {
   "cell_type": "code",
   "execution_count": 5,
   "id": "33e2ae4c",
   "metadata": {},
   "outputs": [],
   "source": [
    "import pandas as pd\n",
    "from sklearn.model_selection import train_test_split\n",
    "from sklearn.feature_extraction.text import TfidfVectorizer\n",
    "from sklearn.naive_bayes import MultinomialNB\n",
    "from sklearn.metrics import accuracy_score, classification_report\n",
    "from sklearn.linear_model import LogisticRegression\n",
    "import gzip\n",
    "import json"
   ]
  },
  {
   "cell_type": "code",
   "execution_count": 6,
   "id": "60b22ddc",
   "metadata": {},
   "outputs": [],
   "source": [
    "def parse(path):\n",
    "  g = gzip.open(path,'r')\n",
    "  for l in g:\n",
    "    yield json.loads(l)"
   ]
  },
  {
   "cell_type": "code",
   "execution_count": 7,
   "id": "19d5664b",
   "metadata": {},
   "outputs": [],
   "source": [
    "def getDF(path):\n",
    "  i = 0\n",
    "  df = {}\n",
    "  for d in parse(path):\n",
    "    df[i] = d\n",
    "    i += 1\n",
    "  return pd.DataFrame.from_dict(df, orient='index')"
   ]
  },
  {
   "cell_type": "code",
   "execution_count": 8,
   "id": "9a0f7ca2",
   "metadata": {},
   "outputs": [],
   "source": [
    "df = getDF('Office_Products_5.json.gz')"
   ]
  },
  {
   "cell_type": "code",
   "execution_count": 15,
   "id": "ea4b1338",
   "metadata": {},
   "outputs": [
    {
     "name": "stdout",
     "output_type": "stream",
     "text": [
      "overall                                                         5.0\n",
      "verified                                                       True\n",
      "reviewTime                                              05 17, 2017\n",
      "reviewerID                                           A1PJSSJSKSVCTM\n",
      "asin                                                     0310802636\n",
      "style                                {'Format:': ' Misc. Supplies'}\n",
      "reviewerName                                             ShopN4Me12\n",
      "reviewText        perfect  fit for the bible I purchased for a c...\n",
      "summary           perfect fit for the bible I purchased for a child\n",
      "unixReviewTime                                           1494979200\n",
      "vote                                                            NaN\n",
      "image                                                           NaN\n",
      "Name: 46, dtype: object\n"
     ]
    }
   ],
   "source": [
    "print(df.iloc[46])"
   ]
  },
  {
   "cell_type": "code",
   "execution_count": 39,
   "id": "264dbe89",
   "metadata": {},
   "outputs": [],
   "source": [
    "df['rating'] = df['overall'].map({1.0: '1', 2.0: '1', 3.0: '1', 4.0: '2', 5.0: '2'})"
   ]
  },
  {
   "cell_type": "code",
   "execution_count": 40,
   "id": "3892eec9",
   "metadata": {},
   "outputs": [
    {
     "name": "stdout",
     "output_type": "stream",
     "text": [
      "overall                                                         4.0\n",
      "verified                                                       True\n",
      "reviewTime                                               11 7, 2017\n",
      "reviewerID                                           A2NIJTYWADLK57\n",
      "asin                                                     0140503528\n",
      "style                                    {'Format:': ' Board book'}\n",
      "reviewerName                                            cotton clay\n",
      "reviewText        kids like story BUT while i really wanted a bo...\n",
      "summary                          good story, small size book though\n",
      "unixReviewTime                                           1510012800\n",
      "vote                                                            NaN\n",
      "image                                                           NaN\n",
      "category                                                          C\n",
      "rating                                                            2\n",
      "Name: 0, dtype: object\n"
     ]
    }
   ],
   "source": [
    "print(df.iloc[0])"
   ]
  },
  {
   "cell_type": "code",
   "execution_count": 41,
   "id": "392a104f",
   "metadata": {},
   "outputs": [],
   "source": [
    "df.dropna(subset=['reviewText'], inplace=True)  # Remove rows with missing 'reviewText'\n",
    "\n",
    "tfidf_vectorizer = TfidfVectorizer(max_features=5000)\n",
    "X = tfidf_vectorizer.fit_transform(df['reviewText'])\n"
   ]
  },
  {
   "cell_type": "code",
   "execution_count": 42,
   "id": "1e3a7bf6",
   "metadata": {},
   "outputs": [],
   "source": [
    "X_train, X_test, y_train, y_test = train_test_split(X, df['rating'], test_size=0.2, random_state=42)\n"
   ]
  },
  {
   "cell_type": "code",
   "execution_count": 43,
   "id": "844481fb",
   "metadata": {},
   "outputs": [
    {
     "data": {
      "text/plain": [
       "LogisticRegression(max_iter=1000, solver='saga')"
      ]
     },
     "execution_count": 43,
     "metadata": {},
     "output_type": "execute_result"
    }
   ],
   "source": [
    "classifier = LogisticRegression(solver='saga', max_iter=1000)\n",
    "classifier.fit(X_train, y_train)\n"
   ]
  },
  {
   "cell_type": "code",
   "execution_count": 44,
   "id": "ba72ecc8",
   "metadata": {},
   "outputs": [
    {
     "name": "stdout",
     "output_type": "stream",
     "text": [
      "Accuracy: 0.9173899730673816\n",
      "              precision    recall  f1-score   support\n",
      "\n",
      "           1       0.77      0.53      0.63     21116\n",
      "           2       0.93      0.98      0.95    138913\n",
      "\n",
      "    accuracy                           0.92    160029\n",
      "   macro avg       0.85      0.75      0.79    160029\n",
      "weighted avg       0.91      0.92      0.91    160029\n",
      "\n"
     ]
    }
   ],
   "source": [
    "from sklearn.metrics import accuracy_score, classification_report\n",
    "\n",
    "y_pred = classifier.predict(X_test)\n",
    "accuracy = accuracy_score(y_test, y_pred)\n",
    "print(f\"Accuracy: {accuracy}\")\n",
    "\n",
    "# Print a detailed classification report\n",
    "print(classification_report(y_test, y_pred))\n"
   ]
  },
  {
   "cell_type": "code",
   "execution_count": 45,
   "id": "bc8b1361",
   "metadata": {},
   "outputs": [
    {
     "name": "stdout",
     "output_type": "stream",
     "text": [
      "['1' '2']\n"
     ]
    }
   ],
   "source": [
    "new_reviews = [\"I hate the product\", \"I love this product.\"]\n",
    "new_reviews_tfidf = tfidf_vectorizer.transform(new_reviews)\n",
    "predictions = classifier.predict(new_reviews_tfidf)\n",
    "print(predictions)\n"
   ]
  },
  {
   "cell_type": "code",
   "execution_count": null,
   "id": "18004c68",
   "metadata": {},
   "outputs": [],
   "source": []
  },
  {
   "cell_type": "code",
   "execution_count": null,
   "id": "065c54c9",
   "metadata": {},
   "outputs": [],
   "source": []
  },
  {
   "cell_type": "code",
   "execution_count": null,
   "id": "a09316a0",
   "metadata": {},
   "outputs": [],
   "source": []
  }
 ],
 "metadata": {
  "kernelspec": {
   "display_name": "Python 3 (ipykernel)",
   "language": "python",
   "name": "python3"
  },
  "language_info": {
   "codemirror_mode": {
    "name": "ipython",
    "version": 3
   },
   "file_extension": ".py",
   "mimetype": "text/x-python",
   "name": "python",
   "nbconvert_exporter": "python",
   "pygments_lexer": "ipython3",
   "version": "3.9.13"
  }
 },
 "nbformat": 4,
 "nbformat_minor": 5
}
